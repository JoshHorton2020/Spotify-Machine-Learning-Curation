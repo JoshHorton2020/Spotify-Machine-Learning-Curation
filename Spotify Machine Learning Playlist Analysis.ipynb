{
 "cells": [
  {
   "cell_type": "code",
   "execution_count": 13,
   "id": "d88be68c",
   "metadata": {},
   "source": [
    "import pandas as pd\n",
    "import spotipy\n",
    "from spotipy.oauth2 import SpotifyOAuth\n",
    "from spotipy.oauth2 import SpotifyClientCredentials\n",
    "from sklearn.cluster import KMeans\n",
    "\n",
    "sp = spotipy.Spotify(auth_manager=SpotifyOAuth(client_id='client id',\n",
    "                                               client_secret='client secret',\n",
    "                                               redirect_uri='http://localhost:8000',\n",
    "                                               scope='playlist-read-private playlist-modify-public'))\n",
    "user_id = sp.current_user()['id']\n",
    "# Define function to retrieve audio features for a playlist\n",
    "def get_audio_features(playlist_id):\n",
    "    results = sp.user_playlist_tracks(user_id, playlist_id=playlist_id)\n",
    "    tracks = results['items']\n",
    "    while results['next']:\n",
    "        results = sp.next(results)\n",
    "        tracks.extend(results['items'])\n",
    "    track_ids = [track['track']['id'] for track in tracks]\n",
    "    chunks = [track_ids[x:x+100] for x in range(0, len(track_ids), 100)]\n",
    "    audio_features = []\n",
    "    for chunk in chunks: \n",
    "        audio_features.extend(sp.audio_features(chunk))\n",
    "\n",
    "    return audio_features\n",
    "\n",
    "# Retrieve audio features for the original playlist\n",
    "original_playlist_id = 'styling playlist id'\n",
    "original_audio_features = get_audio_features(original_playlist_id)\n",
    "\n",
    "# Store audio features in a pandas dataframe\n",
    "original_df = pd.DataFrame(original_audio_features)\n",
    "\n",
    "# Train k-means clustering algorithm on audio features\n",
    "kmeans = KMeans(n_clusters=5, init='k-means++', random_state=None).fit(original_df.drop(columns=['type', 'id', 'uri', 'track_href', 'analysis_url']))\n",
    "\n",
    "# Retrieve audio features for the target playlist\n",
    "target_playlist_id = 'playlist to select songs that match from'\n",
    "target_audio_features = get_audio_features(target_playlist_id)\n",
    "target_df = pd.DataFrame(target_audio_features)\n",
    "\n",
    "# Predict which group each song in the target playlist belongs to\n",
    "target_df['group'] = kmeans.predict(target_df.drop(columns=['type', 'id', 'uri', 'track_href', 'analysis_url']))\n",
    "\n",
    "# Get the group of the original playlist\n",
    "original_group = kmeans.predict(original_df.drop(columns=['type', 'id', 'uri', 'track_href', 'analysis_url']))[0]\n",
    "\n",
    "# Recommend songs from the target playlist that belong to the same group as the original playlist\n",
    "recommended_songs = target_df[target_df['group'] == original_group]['uri'].tolist()\n",
    "\n",
    "name_list = []\n",
    "for track_id in recommended_songs: \n",
    "    track = sp.track(track_id)\n",
    "    track_name = track['name']\n",
    "    name_list.append(track_name)\n",
    "print(name_list)"
   ]
  },
  {
   "cell_type": "code",
   "execution_count": null,
   "id": "9e5dc586",
   "metadata": {},
   "outputs": [],
   "source": []
  }
 ],
 "metadata": {
  "kernelspec": {
   "display_name": "Python 3 (ipykernel)",
   "language": "python",
   "name": "python3"
  },
  "language_info": {
   "codemirror_mode": {
    "name": "ipython",
    "version": 3
   },
   "file_extension": ".py",
   "mimetype": "text/x-python",
   "name": "python",
   "nbconvert_exporter": "python",
   "pygments_lexer": "ipython3",
   "version": "3.9.13"
  }
 },
 "nbformat": 4,
 "nbformat_minor": 5
}
